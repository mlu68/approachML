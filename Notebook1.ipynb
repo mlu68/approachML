{
  "nbformat": 4,
  "nbformat_minor": 0,
  "metadata": {
    "colab": {
      "name": "Notebook1.ipynb",
      "provenance": [],
      "authorship_tag": "ABX9TyOM2gyanpm78PXuICFvyC2Z"
    },
    "kernelspec": {
      "name": "python3",
      "display_name": "Python 3"
    }
  },
  "cells": [
    {
      "cell_type": "markdown",
      "metadata": {
        "id": "Ila_A1P4e9GW",
        "colab_type": "text"
      },
      "source": [
        "Setup env"
      ]
    },
    {
      "cell_type": "code",
      "metadata": {
        "id": "bZJMWgOpd1lH",
        "colab_type": "code",
        "colab": {
          "base_uri": "https://localhost:8080/",
          "height": 34
        },
        "outputId": "b89a9765-3c12-4dd3-ffce-b752b4933ad0"
      },
      "source": [
        "from google.colab import drive\n",
        "from os.path import join\n",
        "\n",
        "ROOT = '/content/drive'     \n",
        "PROJ = 'My Drive/approachML'   \n",
        "\n",
        "drive.mount(ROOT) "
      ],
      "execution_count": 19,
      "outputs": [
        {
          "output_type": "stream",
          "text": [
            "Drive already mounted at /content/drive; to attempt to forcibly remount, call drive.mount(\"/content/drive\", force_remount=True).\n"
          ],
          "name": "stdout"
        }
      ]
    },
    {
      "cell_type": "markdown",
      "metadata": {
        "id": "eG8b2FLBG6QB",
        "colab_type": "text"
      },
      "source": [
        "Supervised vs unsupervised"
      ]
    },
    {
      "cell_type": "code",
      "metadata": {
        "id": "pZQoqRwLG3Pw",
        "colab_type": "code",
        "colab": {
          "base_uri": "https://localhost:8080/",
          "height": 51
        },
        "outputId": "493a08cf-e167-4275-dc08-38acc1dbf472"
      },
      "source": [
        "import matplotlib.pyplot as plt\n",
        "import numpy as np\n",
        "import pandas as pd\n",
        "import seaborn as sns\n",
        "\n",
        "from sklearn import datasets\n",
        "from sklearn import manifold\n",
        "%matplotlib inline"
      ],
      "execution_count": 21,
      "outputs": [
        {
          "output_type": "stream",
          "text": [
            "/usr/local/lib/python3.6/dist-packages/statsmodels/tools/_testing.py:19: FutureWarning: pandas.util.testing is deprecated. Use the functions in the public API at pandas.testing instead.\n",
            "  import pandas.util.testing as tm\n"
          ],
          "name": "stderr"
        }
      ]
    },
    {
      "cell_type": "code",
      "metadata": {
        "id": "f8OWL8zYHxTi",
        "colab_type": "code",
        "colab": {}
      },
      "source": [
        "data = datasets.fetch_openml(\n",
        "    'mnist_784',\n",
        "    version=1,\n",
        "    return_X_y=True\n",
        ")\n",
        "pixel_values, targets = data\n",
        "target = targets.astype(int)"
      ],
      "execution_count": 23,
      "outputs": []
    },
    {
      "cell_type": "code",
      "metadata": {
        "id": "VQ4UqrOVIQQH",
        "colab_type": "code",
        "colab": {
          "base_uri": "https://localhost:8080/",
          "height": 282
        },
        "outputId": "3a7e8501-6f55-4f7c-9dc8-c4beb6fa88d3"
      },
      "source": [
        "single_image = pixel_values[10, :].reshape(28, 28)\n",
        "plt.imshow(single_image, cmap = 'gray')"
      ],
      "execution_count": 29,
      "outputs": [
        {
          "output_type": "execute_result",
          "data": {
            "text/plain": [
              "<matplotlib.image.AxesImage at 0x7f6a76d5cd68>"
            ]
          },
          "metadata": {
            "tags": []
          },
          "execution_count": 29
        },
        {
          "output_type": "display_data",
          "data": {
            "image/png": "[encoded data removed]",
            "text/plain": [
              "<Figure size 432x288 with 1 Axes>"
            ]
          },
          "metadata": {
            "tags": [],
            "needs_background": "light"
          }
        }
      ]
    },
    {
      "cell_type": "code",
      "metadata": {
        "id": "szLywAz4I4JR",
        "colab_type": "code",
        "colab": {}
      },
      "source": [
        "tsne = manifold.TSNE(n_components=2, random_state=42)\n",
        "transformed_data = tsne.fit_transform(pixel_values[:3000, :])"
      ],
      "execution_count": 30,
      "outputs": []
    },
    {
      "cell_type": "code",
      "metadata": {
        "id": "OeT-9NblKt4H",
        "colab_type": "code",
        "colab": {}
      },
      "source": [
        "tsne_df = pd.DataFrame(\n",
        "    np.column_stack((transformed_data, targets[:3000])),\n",
        "    columns=[\"x\", \"y\", \"targets\"]\n",
        ")\n",
        "\n",
        "tsne_df.loc[:, \"targets\"] = tsne_df.targets.astype(int)"
      ],
      "execution_count": 42,
      "outputs": []
    },
    {
      "cell_type": "code",
      "metadata": {
        "id": "kTmYtykRLs6E",
        "colab_type": "code",
        "colab": {
          "base_uri": "https://localhost:8080/",
          "height": 419
        },
        "outputId": "31e2cfdf-9b49-4675-d889-e6174636c481"
      },
      "source": [
        "tsne_df"
      ],
      "execution_count": 45,
      "outputs": [
        {
          "output_type": "execute_result",
          "data": {
            "text/html": [
              "<div>\n",
              "<style scoped>\n",
              "    .dataframe tbody tr th:only-of-type {\n",
              "        vertical-align: middle;\n",
              "    }\n",
              "\n",
              "    .dataframe tbody tr th {\n",
              "        vertical-align: top;\n",
              "    }\n",
              "\n",
              "    .dataframe thead th {\n",
              "        text-align: right;\n",
              "    }\n",
              "</style>\n",
              "<table border=\"1\" class=\"dataframe\">\n",
              "  <thead>\n",
              "    <tr style=\"text-align: right;\">\n",
              "      <th></th>\n",
              "      <th>x</th>\n",
              "      <th>y</th>\n",
              "      <th>targets</th>\n",
              "    </tr>\n",
              "  </thead>\n",
              "  <tbody>\n",
              "    <tr>\n",
              "      <th>0</th>\n",
              "      <td>-5.28155</td>\n",
              "      <td>-28.9528</td>\n",
              "      <td>5</td>\n",
              "    </tr>\n",
              "    <tr>\n",
              "      <th>1</th>\n",
              "      <td>-26.1059</td>\n",
              "      <td>-68.0693</td>\n",
              "      <td>0</td>\n",
              "    </tr>\n",
              "    <tr>\n",
              "      <th>2</th>\n",
              "      <td>-42.5036</td>\n",
              "      <td>35.5804</td>\n",
              "      <td>4</td>\n",
              "    </tr>\n",
              "    <tr>\n",
              "      <th>3</th>\n",
              "      <td>38.894</td>\n",
              "      <td>26.6634</td>\n",
              "      <td>1</td>\n",
              "    </tr>\n",
              "    <tr>\n",
              "      <th>4</th>\n",
              "      <td>-14.7706</td>\n",
              "      <td>35.4332</td>\n",
              "      <td>9</td>\n",
              "    </tr>\n",
              "    <tr>\n",
              "      <th>...</th>\n",
              "      <td>...</td>\n",
              "      <td>...</td>\n",
              "      <td>...</td>\n",
              "    </tr>\n",
              "    <tr>\n",
              "      <th>2995</th>\n",
              "      <td>9.03811</td>\n",
              "      <td>58.8508</td>\n",
              "      <td>7</td>\n",
              "    </tr>\n",
              "    <tr>\n",
              "      <th>2996</th>\n",
              "      <td>-29.4053</td>\n",
              "      <td>-60.9518</td>\n",
              "      <td>0</td>\n",
              "    </tr>\n",
              "    <tr>\n",
              "      <th>2997</th>\n",
              "      <td>13.4664</td>\n",
              "      <td>47.369</td>\n",
              "      <td>9</td>\n",
              "    </tr>\n",
              "    <tr>\n",
              "      <th>2998</th>\n",
              "      <td>-2.43575</td>\n",
              "      <td>7.98377</td>\n",
              "      <td>1</td>\n",
              "    </tr>\n",
              "    <tr>\n",
              "      <th>2999</th>\n",
              "      <td>-4.24826</td>\n",
              "      <td>-13.2669</td>\n",
              "      <td>5</td>\n",
              "    </tr>\n",
              "  </tbody>\n",
              "</table>\n",
              "<p>3000 rows × 3 columns</p>\n",
              "</div>"
            ],
            "text/plain": [
              "            x        y  targets\n",
              "0    -5.28155 -28.9528        5\n",
              "1    -26.1059 -68.0693        0\n",
              "2    -42.5036  35.5804        4\n",
              "3      38.894  26.6634        1\n",
              "4    -14.7706  35.4332        9\n",
              "...       ...      ...      ...\n",
              "2995  9.03811  58.8508        7\n",
              "2996 -29.4053 -60.9518        0\n",
              "2997  13.4664   47.369        9\n",
              "2998 -2.43575  7.98377        1\n",
              "2999 -4.24826 -13.2669        5\n",
              "\n",
              "[3000 rows x 3 columns]"
            ]
          },
          "metadata": {
            "tags": []
          },
          "execution_count": 45
        }
      ]
    },
    {
      "cell_type": "code",
      "metadata": {
        "id": "_tFSRyuhL-2w",
        "colab_type": "code",
        "colab": {}
      },
      "source": [
        ""
      ],
      "execution_count": null,
      "outputs": []
    }
  ]
}